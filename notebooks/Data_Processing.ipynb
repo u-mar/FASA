{
 "cells": [
  {
   "cell_type": "code",
   "execution_count": 4,
   "id": "d16886fa-26fa-4153-b5ba-73bb80a6617b",
   "metadata": {},
   "outputs": [
    {
     "name": "stdout",
     "output_type": "stream",
     "text": [
      "Defaulting to user installation because normal site-packages is not writeable\n",
      "Collecting app-store-scraper\n",
      "  Downloading app_store_scraper-0.3.5-py3-none-any.whl (8.3 kB)\n",
      "Collecting requests==2.23.0\n",
      "  Downloading requests-2.23.0-py2.py3-none-any.whl (58 kB)\n",
      "\u001b[2K     \u001b[38;2;114;156;31m━━━━━━━━━━━━━━━━━━━━━━━━━━━━━━━━━━━━━━━\u001b[0m \u001b[32m58.4/58.4 kB\u001b[0m \u001b[31m247.4 kB/s\u001b[0m eta \u001b[36m0:00:00\u001b[0m kB/s\u001b[0m eta \u001b[36m0:00:01\u001b[0m:01\u001b[0m\n",
      "\u001b[?25hCollecting chardet<4,>=3.0.2\n",
      "  Downloading chardet-3.0.4-py2.py3-none-any.whl (133 kB)\n",
      "\u001b[2K     \u001b[38;2;114;156;31m━━━━━━━━━━━━━━━━━━━━━━━━━━━━━━━━━━━━━\u001b[0m \u001b[32m133.4/133.4 kB\u001b[0m \u001b[31m544.2 kB/s\u001b[0m eta \u001b[36m0:00:00\u001b[0mm eta \u001b[36m0:00:01\u001b[0m0:01\u001b[0m:01\u001b[0m\n",
      "\u001b[?25hCollecting idna<3,>=2.5\n",
      "  Downloading idna-2.10-py2.py3-none-any.whl (58 kB)\n",
      "\u001b[2K     \u001b[38;2;114;156;31m━━━━━━━━━━━━━━━━━━━━━━━━━━━━━━━━━━━━━━━\u001b[0m \u001b[32m58.8/58.8 kB\u001b[0m \u001b[31m469.7 kB/s\u001b[0m eta \u001b[36m0:00:00\u001b[0m31m3.7 MB/s\u001b[0m eta \u001b[36m0:00:01\u001b[0m\n",
      "\u001b[?25hCollecting urllib3!=1.25.0,!=1.25.1,<1.26,>=1.21.1\n",
      "  Downloading urllib3-1.25.11-py2.py3-none-any.whl (127 kB)\n",
      "\u001b[2K     \u001b[38;2;114;156;31m━━━━━━━━━━━━━━━━━━━━━━━━━━━━━━━━━━━━━━━\u001b[0m \u001b[32m128.0/128.0 kB\u001b[0m \u001b[31m1.0 MB/s\u001b[0m eta \u001b[36m0:00:00\u001b[0m MB/s\u001b[0m eta \u001b[36m0:00:01\u001b[0m\n",
      "\u001b[?25hRequirement already satisfied: certifi>=2017.4.17 in /usr/lib/python3/dist-packages (from requests==2.23.0->app-store-scraper) (2023.7.22)\n",
      "Installing collected packages: chardet, urllib3, idna, requests, app-store-scraper\n",
      "  Attempting uninstall: requests\n",
      "    Found existing installation: requests 2.31.0\n",
      "    Uninstalling requests-2.31.0:\n",
      "      Successfully uninstalled requests-2.31.0\n",
      "\u001b[31mERROR: pip's dependency resolver does not currently take into account all the packages that are installed. This behaviour is the source of the following dependency conflicts.\n",
      "flask-appbuilder 4.3.10 requires SQLAlchemy<1.5, which is not installed.\n",
      "apache-airflow 2.8.1 requires sqlalchemy<2.0,>=1.4.28, which is not installed.\n",
      "apache-airflow 2.8.1 requires unicodecsv>=0.14.1, which is not installed.\n",
      "onionshare 2.6 requires PySide2==5.15.2.1, which is not installed.\n",
      "apache-airflow-providers-http 4.9.1 requires requests<3,>=2.27.0, but you have requests 2.23.0 which is incompatible.\n",
      "jupyterlab-server 2.25.4 requires requests>=2.31, but you have requests 2.23.0 which is incompatible.\n",
      "awscli 2.9.19 requires awscrt<0.17.0,>=0.12.4, but you have awscrt 1.0.0.dev0 which is incompatible.\n",
      "awscli 2.9.19 requires distro<1.6.0,>=1.5.0, but you have distro 1.8.0 which is incompatible.\n",
      "awscli 2.9.19 requires prompt-toolkit<3.0.29,>=3.0.24, but you have prompt-toolkit 3.0.36 which is incompatible.\n",
      "onionshare-cli 2.6 requires flask-socketio==5.3.1, but you have flask-socketio 5.3.2 which is incompatible.\n",
      "onionshare-cli 2.6 requires werkzeug<2.1.0,>=2.0.3, but you have werkzeug 2.2.2 which is incompatible.\n",
      "onionshare 2.6 requires werkzeug<2.1.0,>=2.0.3, but you have werkzeug 2.2.2 which is incompatible.\u001b[0m\u001b[31m\n",
      "\u001b[0mSuccessfully installed app-store-scraper-0.3.5 chardet-3.0.4 idna-2.10 requests-2.23.0 urllib3-1.25.11\n"
     ]
    }
   ],
   "source": [
    "!pip install app-store-scraper --break-system-packages"
   ]
  },
  {
   "cell_type": "code",
   "execution_count": 6,
   "id": "b558783f-714e-448a-967a-7ab8067db589",
   "metadata": {
    "scrolled": true
   },
   "outputs": [],
   "source": [
    "from app_store_scraper import AppStore"
   ]
  },
  {
   "cell_type": "code",
   "execution_count": 7,
   "id": "15a4a1f0-dbb8-490b-92fb-aa0e6b175994",
   "metadata": {},
   "outputs": [
    {
     "name": "stderr",
     "output_type": "stream",
     "text": [
      "2025-04-22 18:54:34,108 [INFO] Base - Initialised: AppStore('ke', 'faras', 1616854301)\n",
      "2025-04-22 18:54:34,110 [INFO] Base - Ready to fetch reviews from: https://apps.apple.com/ke/app/faras/id1616854301\n"
     ]
    }
   ],
   "source": [
    "app = AppStore(country='ke', app_name='faras', app_id='1616854301')"
   ]
  },
  {
   "cell_type": "code",
   "execution_count": 11,
   "id": "a56b3340-a634-4032-aa04-ecb3c53f0718",
   "metadata": {},
   "outputs": [
    {
     "name": "stderr",
     "output_type": "stream",
     "text": [
      "2025-04-22 18:55:53,123 [ERROR] Base - Something went wrong: Expecting value: line 1 column 1 (char 0)\n",
      "2025-04-22 18:55:53,125 [INFO] Base - [id:1616854301] Fetched 0 reviews (0 fetched in total)\n"
     ]
    }
   ],
   "source": [
    "app.review()"
   ]
  },
  {
   "cell_type": "code",
   "execution_count": 12,
   "id": "006dfe5b-79ec-436c-8940-f3f7a76f273a",
   "metadata": {},
   "outputs": [
    {
     "name": "stderr",
     "output_type": "stream",
     "text": [
      "2025-04-22 18:57:02,620 [INFO] Base - Initialised: AppStore('us', 'facebook', 284882215)\n",
      "2025-04-22 18:57:02,622 [INFO] Base - Ready to fetch reviews from: https://apps.apple.com/us/app/facebook/id284882215\n",
      "2025-04-22 18:57:03,432 [ERROR] Base - Something went wrong: Expecting value: line 1 column 1 (char 0)\n",
      "2025-04-22 18:57:03,433 [INFO] Base - [id:284882215] Fetched 0 reviews (0 fetched in total)\n"
     ]
    },
    {
     "name": "stdout",
     "output_type": "stream",
     "text": [
      "[]\n"
     ]
    }
   ],
   "source": [
    "app = AppStore(country=\"us\", app_name=\"facebook\", app_id=\"284882215\")\n",
    "app.review()\n",
    "print(app.reviews[:3])"
   ]
  },
  {
   "cell_type": "code",
   "execution_count": null,
   "id": "68f90007-6738-4a87-b27a-4b5bf11df24e",
   "metadata": {},
   "outputs": [],
   "source": []
  }
 ],
 "metadata": {
  "kernelspec": {
   "display_name": "Python 3 (ipykernel)",
   "language": "python",
   "name": "python3"
  },
  "language_info": {
   "codemirror_mode": {
    "name": "ipython",
    "version": 3
   },
   "file_extension": ".py",
   "mimetype": "text/x-python",
   "name": "python",
   "nbconvert_exporter": "python",
   "pygments_lexer": "ipython3",
   "version": "3.11.2"
  }
 },
 "nbformat": 4,
 "nbformat_minor": 5
}
