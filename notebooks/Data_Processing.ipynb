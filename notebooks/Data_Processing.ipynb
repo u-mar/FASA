{
 "cells": [
  {
   "cell_type": "code",
   "execution_count": 2,
   "id": "68f90007-6738-4a87-b27a-4b5bf11df24e",
   "metadata": {},
   "outputs": [],
   "source": [
    "import pandas as pd\n",
    "import numpy as np\n",
    "from datetime import datetime, timedelta"
   ]
  },
  {
   "cell_type": "code",
   "execution_count": 3,
   "id": "fc0a7918",
   "metadata": {},
   "outputs": [],
   "source": [
    "maps = pd.read_csv(\"../Data/Raw/google_maps.csv\")\n",
    "play = pd.read_csv(\"../Data/Raw/google_play.csv\")\n",
    "app = pd.read_csv(\"../Data/Raw/app_store.csv\")"
   ]
  },
  {
   "cell_type": "markdown",
   "id": "546aa9f7",
   "metadata": {},
   "source": [
    "##### Let's Check Info"
   ]
  },
  {
   "cell_type": "code",
   "execution_count": 4,
   "id": "51041a3e",
   "metadata": {},
   "outputs": [
    {
     "name": "stdout",
     "output_type": "stream",
     "text": [
      "<class 'pandas.core.frame.DataFrame'>\n",
      "RangeIndex: 130 entries, 0 to 129\n",
      "Data columns (total 6 columns):\n",
      " #   Column    Non-Null Count  Dtype \n",
      "---  ------    --------------  ----- \n",
      " 0   reviewer  130 non-null    object\n",
      " 1   rating    130 non-null    int64 \n",
      " 2   date      130 non-null    object\n",
      " 3   text      52 non-null     object\n",
      " 4   response  1 non-null      object\n",
      " 5   company   130 non-null    object\n",
      "dtypes: int64(1), object(5)\n",
      "memory usage: 6.2+ KB\n"
     ]
    }
   ],
   "source": [
    "maps.info()"
   ]
  },
  {
   "cell_type": "code",
   "execution_count": 5,
   "id": "de74133b",
   "metadata": {},
   "outputs": [
    {
     "name": "stdout",
     "output_type": "stream",
     "text": [
      "<class 'pandas.core.frame.DataFrame'>\n",
      "RangeIndex: 106 entries, 0 to 105\n",
      "Data columns (total 12 columns):\n",
      " #   Column                Non-Null Count  Dtype \n",
      "---  ------                --------------  ----- \n",
      " 0   reviewId              106 non-null    object\n",
      " 1   userName              106 non-null    object\n",
      " 2   userImage             106 non-null    object\n",
      " 3   content               106 non-null    object\n",
      " 4   score                 106 non-null    int64 \n",
      " 5   thumbsUpCount         106 non-null    int64 \n",
      " 6   reviewCreatedVersion  93 non-null     object\n",
      " 7   at                    106 non-null    object\n",
      " 8   replyContent          26 non-null     object\n",
      " 9   repliedAt             26 non-null     object\n",
      " 10  appVersion            93 non-null     object\n",
      " 11  company               106 non-null    object\n",
      "dtypes: int64(2), object(10)\n",
      "memory usage: 10.1+ KB\n"
     ]
    }
   ],
   "source": [
    "play.info()"
   ]
  },
  {
   "cell_type": "code",
   "execution_count": 6,
   "id": "127deb8c",
   "metadata": {},
   "outputs": [
    {
     "name": "stdout",
     "output_type": "stream",
     "text": [
      "<class 'pandas.core.frame.DataFrame'>\n",
      "RangeIndex: 914 entries, 0 to 913\n",
      "Data columns (total 6 columns):\n",
      " #   Column    Non-Null Count  Dtype \n",
      "---  ------    --------------  ----- \n",
      " 0   rating    914 non-null    int64 \n",
      " 1   review    914 non-null    object\n",
      " 2   userName  914 non-null    object\n",
      " 3   title     914 non-null    object\n",
      " 4   date      914 non-null    object\n",
      " 5   company   914 non-null    object\n",
      "dtypes: int64(1), object(5)\n",
      "memory usage: 43.0+ KB\n"
     ]
    }
   ],
   "source": [
    "app.info()"
   ]
  },
  {
   "cell_type": "markdown",
   "id": "367d4a48",
   "metadata": {},
   "source": [
    "<font size=3> We need to standardize these three review datasets by aligning their columns, handling missing values, and converting data types. This involves mapping similar fields (like \"score\" and \"rating\"), cleaning text, formatting dates, and filling or flagging empty entries.\n",
    "</font>"
   ]
  },
  {
   "cell_type": "code",
   "execution_count": 7,
   "id": "375dc857",
   "metadata": {},
   "outputs": [],
   "source": [
    "def safe_prepare(df, rename_map, source):\n",
    "    df = df.copy()\n",
    "    df = df.rename(columns=rename_map)\n",
    "    df['source'] = source\n",
    "\n",
    "    return df"
   ]
  },
  {
   "cell_type": "code",
   "execution_count": 8,
   "id": "be67bda0",
   "metadata": {},
   "outputs": [],
   "source": [
    "app_map = {\n",
    "    'review': 'text',\n",
    "    'userName': 'reviewer',\n",
    "    }\n",
    "play_map = {\n",
    "    'reviewId': 'review_id',\n",
    "    'userName': 'reviewer',\n",
    "    'content': 'text',\n",
    "    'score': 'rating',\n",
    "    'replyContent': 'response',\n",
    "    'at': 'date',\n",
    "    }\n",
    "\n",
    "play = safe_prepare(play,play_map,'google_play')\n",
    "app = safe_prepare(app,app_map,'app_store')"
   ]
  },
  {
   "cell_type": "code",
   "execution_count": 9,
   "id": "7e3d70de",
   "metadata": {},
   "outputs": [],
   "source": [
    "maps['source'] = 'google_maps'"
   ]
  },
  {
   "cell_type": "code",
   "execution_count": 10,
   "id": "3ffce314",
   "metadata": {},
   "outputs": [
    {
     "data": {
      "text/plain": [
       "array(['3 days ago', '5 days ago', 'a week ago', '3 weeks ago',\n",
       "       '4 weeks ago', 'a month ago', '2 months ago', '18 hours ago',\n",
       "       '2 weeks ago', '3 months ago', '4 months ago', '5 months ago',\n",
       "       '6 months ago', '7 months ago', '8 months ago', '9 months ago',\n",
       "       '10 months ago', '11 months ago', 'a year ago'], dtype=object)"
      ]
     },
     "execution_count": 10,
     "metadata": {},
     "output_type": "execute_result"
    }
   ],
   "source": [
    "maps.date.unique()"
   ]
  },
  {
   "cell_type": "code",
   "execution_count": 12,
   "id": "9c5df120",
   "metadata": {},
   "outputs": [
    {
     "data": {
      "text/plain": [
       "datetime.datetime(2025, 4, 28, 16, 38, 8, 92793)"
      ]
     },
     "execution_count": 12,
     "metadata": {},
     "output_type": "execute_result"
    }
   ],
   "source": [
    "data_str = ['2 months ago', 'a month ago', 'a year ago', '5 months ago', \n",
    "'6 months ago', '3 months ago', '4 months ago', '7 months ago',\n",
    "'3 weeks ago', '11 months ago', '2 weeks ago', '5 days ago',\n",
    "'8 months ago', '10 months ago', '4 weeks ago', 'a week ago',\n",
    "'9 months ago', '18 hours ago', '3 days ago']\n",
    "\n",
    "\n",
    "def relative_to_date(rel_str):\n",
    "    now = datetime.now()\n",
    "    rel_str = rel_str.lower()\n",
    "    \n",
    "    if 'hour' in rel_str:\n",
    "        hours = int(rel_str.split()[0]) if rel_str[0].isdigit() else 1\n",
    "        return now - timedelta(hours=hours)\n",
    "    elif 'day' in rel_str:\n",
    "        days = int(rel_str.split()[0]) if rel_str[0].isdigit() else 1\n",
    "        return now - timedelta(days=days)\n",
    "    elif 'week' in rel_str:\n",
    "        weeks = int(rel_str.split()[0]) if rel_str[0].isdigit() else 1\n",
    "        return now - timedelta(weeks=weeks)\n",
    "    elif 'month' in rel_str:\n",
    "        months = int(rel_str.split()[0]) if rel_str[0].isdigit() else 1\n",
    "        return now - timedelta(days=months*30)  # Approximate\n",
    "    elif 'year' in rel_str:\n",
    "        years = int(rel_str.split()[0]) if rel_str[0].isdigit() else 1\n",
    "        return now - timedelta(days=years*365)  # Approximate\n",
    "    else:\n",
    "        return now\n",
    "\n",
    "relative_to_date('1 day ago')"
   ]
  },
  {
   "cell_type": "code",
   "execution_count": 13,
   "id": "fbf55d51",
   "metadata": {},
   "outputs": [],
   "source": [
    "maps['date'] = maps['date'].apply(relative_to_date)\n",
    "maps['date'] = maps['date'].dt.strftime('%Y-%m-%d')"
   ]
  },
  {
   "cell_type": "code",
   "execution_count": 14,
   "id": "7752c4a3",
   "metadata": {},
   "outputs": [],
   "source": [
    "play['date'] = pd.to_datetime(play['date'], errors='coerce')\n",
    "app['date'] = pd.to_datetime(app['date'],errors='coerce')\n",
    "play['date'] = play['date'].dt.strftime('%Y-%m-%d')\n",
    "app['date'] = app['date'].dt.strftime('%Y-%m-%d')"
   ]
  },
  {
   "cell_type": "code",
   "execution_count": 15,
   "id": "7c8eec8f",
   "metadata": {},
   "outputs": [],
   "source": [
    "## we missing the response column lets add it as NaN\n",
    "app['response'] = np.NaN"
   ]
  },
  {
   "cell_type": "code",
   "execution_count": 16,
   "id": "a2b3dae1",
   "metadata": {},
   "outputs": [],
   "source": [
    "common = ['reviewer', 'rating', 'date', 'text', 'source','company','response']\n",
    "\n",
    "df = pd.concat([maps[common],app[common],play[common]],ignore_index=False)"
   ]
  },
  {
   "cell_type": "code",
   "execution_count": 17,
   "id": "e7909b34",
   "metadata": {},
   "outputs": [
    {
     "name": "stdout",
     "output_type": "stream",
     "text": [
      "<class 'pandas.core.frame.DataFrame'>\n",
      "Index: 1150 entries, 0 to 105\n",
      "Data columns (total 7 columns):\n",
      " #   Column    Non-Null Count  Dtype \n",
      "---  ------    --------------  ----- \n",
      " 0   reviewer  1150 non-null   object\n",
      " 1   rating    1150 non-null   int64 \n",
      " 2   date      1150 non-null   object\n",
      " 3   text      1072 non-null   object\n",
      " 4   source    1150 non-null   object\n",
      " 5   company   1150 non-null   object\n",
      " 6   response  27 non-null     object\n",
      "dtypes: int64(1), object(6)\n",
      "memory usage: 71.9+ KB\n"
     ]
    }
   ],
   "source": [
    "df.info()"
   ]
  },
  {
   "cell_type": "markdown",
   "id": "931f4628",
   "metadata": {},
   "source": [
    "#### Data Statistic"
   ]
  },
  {
   "cell_type": "code",
   "execution_count": 18,
   "id": "3892141f",
   "metadata": {},
   "outputs": [
    {
     "name": "stdout",
     "output_type": "stream",
     "text": [
      "The Data has 1150 records and 7 features\n"
     ]
    }
   ],
   "source": [
    "# data size and  shape\n",
    "print(f'The Data has {df.shape[0]} records and {df.shape[1]} features')"
   ]
  },
  {
   "cell_type": "code",
   "execution_count": 19,
   "id": "d636ffd5",
   "metadata": {},
   "outputs": [
    {
     "data": {
      "text/html": [
       "<div>\n",
       "<style scoped>\n",
       "    .dataframe tbody tr th:only-of-type {\n",
       "        vertical-align: middle;\n",
       "    }\n",
       "\n",
       "    .dataframe tbody tr th {\n",
       "        vertical-align: top;\n",
       "    }\n",
       "\n",
       "    .dataframe thead th {\n",
       "        text-align: right;\n",
       "    }\n",
       "</style>\n",
       "<table border=\"1\" class=\"dataframe\">\n",
       "  <thead>\n",
       "    <tr style=\"text-align: right;\">\n",
       "      <th></th>\n",
       "      <th>rating</th>\n",
       "    </tr>\n",
       "  </thead>\n",
       "  <tbody>\n",
       "    <tr>\n",
       "      <th>count</th>\n",
       "      <td>1150.000000</td>\n",
       "    </tr>\n",
       "    <tr>\n",
       "      <th>mean</th>\n",
       "      <td>3.243478</td>\n",
       "    </tr>\n",
       "    <tr>\n",
       "      <th>std</th>\n",
       "      <td>1.870905</td>\n",
       "    </tr>\n",
       "    <tr>\n",
       "      <th>min</th>\n",
       "      <td>1.000000</td>\n",
       "    </tr>\n",
       "    <tr>\n",
       "      <th>25%</th>\n",
       "      <td>1.000000</td>\n",
       "    </tr>\n",
       "    <tr>\n",
       "      <th>50%</th>\n",
       "      <td>4.000000</td>\n",
       "    </tr>\n",
       "    <tr>\n",
       "      <th>75%</th>\n",
       "      <td>5.000000</td>\n",
       "    </tr>\n",
       "    <tr>\n",
       "      <th>max</th>\n",
       "      <td>5.000000</td>\n",
       "    </tr>\n",
       "  </tbody>\n",
       "</table>\n",
       "</div>"
      ],
      "text/plain": [
       "            rating\n",
       "count  1150.000000\n",
       "mean      3.243478\n",
       "std       1.870905\n",
       "min       1.000000\n",
       "25%       1.000000\n",
       "50%       4.000000\n",
       "75%       5.000000\n",
       "max       5.000000"
      ]
     },
     "execution_count": 19,
     "metadata": {},
     "output_type": "execute_result"
    }
   ],
   "source": [
    "# checking for data statistic\n",
    "df.describe()"
   ]
  },
  {
   "cell_type": "markdown",
   "id": "b179fb1a",
   "metadata": {},
   "source": [
    "<font size=3>The rating data shows an average score of 3.24 (out of 5) with significant variability (standard deviation of 1.87), indicating diverse customer experiences. While half of the ratings are 4 or higher (median = 4), a quarter of reviews give the lowest score (1-star), suggesting polarized feedback. The full range (1-5 stars) is represented, with 5-stars being the most common high rating (75th percentile). This distribution implies that while many customers are satisfied, a substantial portion had strongly negative experiences</font>"
   ]
  },
  {
   "cell_type": "code",
   "execution_count": 20,
   "id": "0efdbf6a",
   "metadata": {},
   "outputs": [
    {
     "data": {
      "text/plain": [
       "reviewer       0\n",
       "rating         0\n",
       "date           0\n",
       "text          78\n",
       "source         0\n",
       "company        0\n",
       "response    1123\n",
       "dtype: int64"
      ]
     },
     "execution_count": 20,
     "metadata": {},
     "output_type": "execute_result"
    }
   ],
   "source": [
    "df.isna().sum()"
   ]
  },
  {
   "cell_type": "markdown",
   "id": "22b5c3c8",
   "metadata": {},
   "source": [
    "<font size=3>For missing text fields, we'll infer sentiment from rating (e.g., 5 stars = \"Positive\"). Empty response fields can stay as NaN, correctly indicating no company reply. This keeps data meaningful while reflecting reality.</font>"
   ]
  },
  {
   "cell_type": "code",
   "execution_count": 21,
   "id": "13b5bd08",
   "metadata": {},
   "outputs": [],
   "source": [
    "df.loc[df['text'].isna() & (df['rating'] >= 4), 'text'] = \"Positive experience\"\n",
    "df.loc[df['text'].isna() & (df['rating'] <= 2), 'text'] = \"Negative experience\"\n",
    "df.loc[df['text'].isna() & (df['rating'] == 3), 'text'] = \"Neutral  experience\""
   ]
  },
  {
   "cell_type": "code",
   "execution_count": 22,
   "id": "eeed5e61",
   "metadata": {},
   "outputs": [],
   "source": [
    "#we use true if there is  a response else false\n",
    "df['response'] = df['response'].notna()"
   ]
  },
  {
   "cell_type": "code",
   "execution_count": 23,
   "id": "ccc27199",
   "metadata": {},
   "outputs": [
    {
     "data": {
      "text/plain": [
       "0"
      ]
     },
     "execution_count": 23,
     "metadata": {},
     "output_type": "execute_result"
    }
   ],
   "source": [
    "# there is no duplicates in our data \n",
    "df.duplicated().sum()"
   ]
  },
  {
   "cell_type": "code",
   "execution_count": 28,
   "id": "45ab566b",
   "metadata": {},
   "outputs": [],
   "source": [
    "# we turn date from objet to datetime\n",
    "df['date'] = pd.to_datetime(df['date'],errors='coerce')"
   ]
  },
  {
   "cell_type": "code",
   "execution_count": 30,
   "id": "1c94658c",
   "metadata": {},
   "outputs": [
    {
     "data": {
      "text/plain": [
       "0     2025-04-26\n",
       "1     2025-04-24\n",
       "2     2025-04-22\n",
       "3     2025-04-08\n",
       "4     2025-04-01\n",
       "         ...    \n",
       "101   2025-04-28\n",
       "102   2025-04-28\n",
       "103   2025-04-28\n",
       "104   2025-04-28\n",
       "105   2025-04-28\n",
       "Name: date, Length: 1150, dtype: datetime64[ns]"
      ]
     },
     "execution_count": 30,
     "metadata": {},
     "output_type": "execute_result"
    }
   ],
   "source": [
    "df['date']"
   ]
  },
  {
   "cell_type": "code",
   "execution_count": 32,
   "id": "41a1f012",
   "metadata": {},
   "outputs": [],
   "source": [
    "# save it\n",
    "df.to_csv(\"../Data/Cleaned/cleaned.csv\",index=False)"
   ]
  },
  {
   "cell_type": "code",
   "execution_count": null,
   "id": "197c6255",
   "metadata": {},
   "outputs": [],
   "source": []
  }
 ],
 "metadata": {
  "kernelspec": {
   "display_name": "Python 3 (ipykernel)",
   "language": "python",
   "name": "python3"
  },
  "language_info": {
   "codemirror_mode": {
    "name": "ipython",
    "version": 3
   },
   "file_extension": ".py",
   "mimetype": "text/x-python",
   "name": "python",
   "nbconvert_exporter": "python",
   "pygments_lexer": "ipython3",
   "version": "3.11.2"
  }
 },
 "nbformat": 4,
 "nbformat_minor": 5
}
