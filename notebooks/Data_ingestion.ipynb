{
 "cells": [
  {
   "cell_type": "markdown",
   "id": "2bcabb8c",
   "metadata": {},
   "source": [
    "# 📥 Data Ingestion Pipeline"
   ]
  },
  {
   "cell_type": "markdown",
   "id": "61518843",
   "metadata": {},
   "source": [
    "### 🌐 Multi-Source Review Collection System\n",
    "\n",
    "We present a custom-built data ingestion pipeline developed to scrape and aggregate user reviews from **Google Maps**, **Google Play Store**, and the **Apple App Store**. The goal is to collect rich, multi-platform feedback data for analysis of customer sentiment, service quality, and app performance.\n",
    "\n",
    "#### ✅ What We Did:\n",
    "- **Developed custom web scrapers** for each platform to extract relevant review data, including user ratings, comments, and timestamps.\n",
    "- **Handled dynamic content loading** and anti-scraping measures to ensure reliable data retrieval.\n",
    "- **Built a modular and reusable ingestion pipeline** using **Mage AI** to orchestrate the scraping workflows, schedule runs, and manage dependencies.\n",
    "- **Standardized and cleaned the collected data** for consistency across platforms.\n",
    "- **Exported the final datasets** for use in downstream tasks such as sentiment analysis, dashboarding, or machine learning.\n",
    "\n",
    "This pipeline enables continuous, automated collection of real-world customer feedback from multiple channels, making it a valuable asset for data-driven decision-making.\n",
    "\n",
    "\n",
    "#### 🔍 Data Sources\n",
    "\n",
    "| Platform        | Collection Method          | Key Metrics                  | Update Frequency |\n",
    "|-----------------|----------------------------|------------------------------|------------------|\n",
    "| **Google Maps** | Custom Python Scraper       | Rating, Location Feedback    | Daily            |\n",
    "| **App Store**   | Official API Integration    | Version-Specific Reviews     | Weekly           |\n",
    "| **Play Store**  | Play Store Scraper          | Device-Specific Issues       | Weekly           |\n",
    "\n",
    "---\n"
   ]
  },
  {
   "cell_type": "code",
   "execution_count": 21,
   "id": "8ca22ae2-87e4-429a-92fd-db9bd4cceaea",
   "metadata": {},
   "outputs": [],
   "source": [
    "import pandas as pd\n",
    "import sys\n",
    "import os\n",
    "\n",
    "\n",
    "data_ingestion_path = os.path.abspath(os.path.join('..', 'Data_Ingestion')) \n",
    "sys.path.append(data_ingestion_path)\n",
    "\n",
    "\n",
    "from Scrapers.config import JSONManager\n",
    "from Scrapers.app_store import App_store\n",
    "from Scrapers.google_maps import scrape_google_maps\n",
    "from Scrapers.google_play import play"
   ]
  },
  {
   "cell_type": "code",
   "execution_count": 22,
   "id": "0bd5ecb2",
   "metadata": {},
   "outputs": [],
   "source": [
    "def load_app_store_data():\n",
    "    \"\"\"Load data from App Store\"\"\"\n",
    "    all_data = []\n",
    "    data = {\n",
    "        'bolt':\"675033630\",\n",
    "        'faras':\"1616854301\",\n",
    "        'little':\"1130691846\",\n",
    "        'uber':\"368677368\"\n",
    "    }\n",
    "    \n",
    "    for company, sources in data.items():\n",
    "        app_id = sources\n",
    "        data = App_store(app_id)\n",
    "        if data is not None:\n",
    "            data['company'] = company\n",
    "            all_data.append(data)\n",
    "    \n",
    "    return pd.concat(all_data, ignore_index=True) if all_data else pd.DataFrame()\n"
   ]
  },
  {
   "cell_type": "code",
   "execution_count": 30,
   "id": "348232ed",
   "metadata": {},
   "outputs": [],
   "source": [
    "def load_google_maps_data():\n",
    "    \"\"\"Load data from Google Maps\"\"\"\n",
    "    all_data = []\n",
    "    data = {\n",
    "        'faras':['Faras Kenya',120],\n",
    "        'uber':['Uber office nairobi',400],\n",
    "        'little':['Little Kenya',800],\n",
    "        'bolt':['Bolt Interactive',50]\n",
    "    }\n",
    "    \n",
    "    for company, sources in data.items():\n",
    "        name = sources[0]\n",
    "        last = sources[1]\n",
    "        \n",
    "        data, new_count = scrape_google_maps(name, last)\n",
    "        print(f\"Google Maps: {company}, New reviews: {new_count}\")\n",
    "        \n",
    "        if data is not None:\n",
    "            data['company'] = company\n",
    "            all_data.append(data)\n",
    "    \n",
    "    return pd.concat(all_data, ignore_index=True) if all_data else pd.DataFrame()"
   ]
  },
  {
   "cell_type": "code",
   "execution_count": 24,
   "id": "832b685a",
   "metadata": {},
   "outputs": [],
   "source": [
    "def load_play_store_data():\n",
    "    \"\"\"Load data from Google Play Store\"\"\"\n",
    "    all_data = []\n",
    "    data = {\n",
    "        'faras':[\"com.faras.rider\",940],\n",
    "        'uber':[\"com.ubercab\",20660],\n",
    "        'little':[\"com.craftsilicon.littlecabrider\",2576],\n",
    "        'bolt':[\"ee.mtakso.client\",30600]\n",
    "     }\n",
    "    \n",
    "    for company, sources in data.items():\n",
    "        name = sources[0]\n",
    "        last = sources[1]\n",
    "        print(f\"Processing Play Store: {company}\")\n",
    "        \n",
    "        first = False\n",
    "        data, new_count = play(name, last, first_time=first)\n",
    "        \n",
    "        if data is not None and not data.empty:\n",
    "            data['company'] = company\n",
    "            all_data.append(data)\n",
    "    \n",
    "    return pd.concat(all_data, ignore_index=True) if all_data else pd.DataFrame()"
   ]
  },
  {
   "cell_type": "code",
   "execution_count": 25,
   "id": "86e9eec6",
   "metadata": {},
   "outputs": [],
   "source": [
    "# run the app store scraper\n",
    "app_store_df = load_app_store_data()"
   ]
  },
  {
   "cell_type": "code",
   "execution_count": 27,
   "id": "e2f67d9e",
   "metadata": {},
   "outputs": [
    {
     "name": "stdout",
     "output_type": "stream",
     "text": [
      "Processing Play Store: faras\n",
      "950\n",
      "Fetching New 10 Review\n",
      "Processing Play Store: uber\n",
      "20680\n",
      "Fetching New 20 Review\n",
      "Processing Play Store: little\n",
      "2587\n",
      "Fetching New 11 Review\n",
      "Processing Play Store: bolt\n",
      "30623\n",
      "Fetching New 23 Review\n"
     ]
    },
    {
     "name": "stderr",
     "output_type": "stream",
     "text": [
      "/tmp/ipykernel_9376/624973289.py:23: FutureWarning: The behavior of DataFrame concatenation with empty or all-NA entries is deprecated. In a future version, this will no longer exclude empty or all-NA columns when determining the result dtypes. To retain the old behavior, exclude the relevant entries before the concat operation.\n",
      "  return pd.concat(all_data, ignore_index=True) if all_data else pd.DataFrame()\n"
     ]
    }
   ],
   "source": [
    "# run for play store\n",
    "play_store_df = load_play_store_data()"
   ]
  },
  {
   "cell_type": "code",
   "execution_count": 31,
   "id": "f96596a3",
   "metadata": {},
   "outputs": [
    {
     "name": "stdout",
     "output_type": "stream",
     "text": [
      "🌍 Loading Google Maps...\n",
      "🔍 Searching for Faras Kenya...\n",
      "⏳ Waiting for business page...\n",
      "📝 Opening reviews section...\n",
      "Total Review 139\n",
      "🔄 Sorting by newest reviews...\n",
      "⬇️ Scroll 1/2 - Reviews loaded: 20\n",
      "⬇️ Scroll 2/2 - Reviews loaded: 30\n",
      "🔍 Expanding 1 reviews with 'More' buttons\n",
      "✅ Final review count: 30\n",
      "Google Maps: faras, New reviews: 139\n",
      "🌍 Loading Google Maps...\n",
      "🔍 Searching for Uber office nairobi...\n",
      "⏳ Waiting for business page...\n",
      "📝 Opening reviews section...\n",
      "Total Review 410\n",
      "🔄 Sorting by newest reviews...\n",
      "⬇️ Scroll 1/2 - Reviews loaded: 10\n",
      "⬇️ Scroll 2/2 - Reviews loaded: 20\n",
      "🔍 Expanding 3 reviews with 'More' buttons\n",
      "✅ Final review count: 20\n",
      "Google Maps: uber, New reviews: 410\n",
      "🌍 Loading Google Maps...\n",
      "🔍 Searching for Little Kenya...\n",
      "⏳ Waiting for business page...\n",
      "📝 Opening reviews section...\n",
      "Total Review 827\n",
      "🔄 Sorting by newest reviews...\n",
      "⬇️ Scroll 1/3 - Reviews loaded: 20\n",
      "⬇️ Scroll 2/3 - Reviews loaded: 30\n",
      "⬇️ Scroll 3/3 - Reviews loaded: 40\n",
      "🔍 Expanding 1 reviews with 'More' buttons\n",
      "✅ Final review count: 40\n",
      "Google Maps: little, New reviews: 827\n",
      "🌍 Loading Google Maps...\n",
      "🔍 Searching for Bolt Interactive...\n",
      "⏳ Waiting for business page...\n",
      "📝 Opening reviews section...\n",
      "Total Review 63\n",
      "🔄 Sorting by newest reviews...\n",
      "⬇️ Scroll 1/2 - Reviews loaded: 20\n",
      "⬇️ Scroll 2/2 - Reviews loaded: 30\n",
      "🔍 Expanding 0 reviews with 'More' buttons\n",
      "✅ Final review count: 30\n",
      "Google Maps: bolt, New reviews: 63\n"
     ]
    }
   ],
   "source": [
    "# scrape for google maps\n",
    "google_maps_df = load_google_maps_data()"
   ]
  },
  {
   "cell_type": "code",
   "execution_count": 35,
   "id": "1c6f1087",
   "metadata": {},
   "outputs": [
    {
     "data": {
      "text/html": [
       "<div>\n",
       "<style scoped>\n",
       "    .dataframe tbody tr th:only-of-type {\n",
       "        vertical-align: middle;\n",
       "    }\n",
       "\n",
       "    .dataframe tbody tr th {\n",
       "        vertical-align: top;\n",
       "    }\n",
       "\n",
       "    .dataframe thead th {\n",
       "        text-align: right;\n",
       "    }\n",
       "</style>\n",
       "<table border=\"1\" class=\"dataframe\">\n",
       "  <thead>\n",
       "    <tr style=\"text-align: right;\">\n",
       "      <th></th>\n",
       "      <th>reviewer</th>\n",
       "      <th>rating</th>\n",
       "      <th>date</th>\n",
       "      <th>text</th>\n",
       "      <th>response</th>\n",
       "      <th>company</th>\n",
       "    </tr>\n",
       "  </thead>\n",
       "  <tbody>\n",
       "    <tr>\n",
       "      <th>104</th>\n",
       "      <td>paul moturi</td>\n",
       "      <td>4</td>\n",
       "      <td>8 months ago</td>\n",
       "      <td>Attendant not interactive behaves More of bein...</td>\n",
       "      <td>#N/A</td>\n",
       "      <td>bolt</td>\n",
       "    </tr>\n",
       "    <tr>\n",
       "      <th>102</th>\n",
       "      <td>Amos Mwangi</td>\n",
       "      <td>1</td>\n",
       "      <td>7 months ago</td>\n",
       "      <td>Useless app shakhaola</td>\n",
       "      <td>#N/A</td>\n",
       "      <td>bolt</td>\n",
       "    </tr>\n",
       "    <tr>\n",
       "      <th>52</th>\n",
       "      <td>Onesmus Nyangena</td>\n",
       "      <td>5</td>\n",
       "      <td>3 weeks ago</td>\n",
       "      <td>#N/A</td>\n",
       "      <td>#N/A</td>\n",
       "      <td>little</td>\n",
       "    </tr>\n",
       "  </tbody>\n",
       "</table>\n",
       "</div>"
      ],
      "text/plain": [
       "             reviewer rating          date  \\\n",
       "104       paul moturi      4  8 months ago   \n",
       "102       Amos Mwangi      1  7 months ago   \n",
       "52   Onesmus Nyangena      5   3 weeks ago   \n",
       "\n",
       "                                                  text response company  \n",
       "104  Attendant not interactive behaves More of bein...     #N/A    bolt  \n",
       "102                              Useless app shakhaola     #N/A    bolt  \n",
       "52                                                #N/A     #N/A  little  "
      ]
     },
     "execution_count": 35,
     "metadata": {},
     "output_type": "execute_result"
    }
   ],
   "source": [
    "google_maps_df.sample(3)"
   ]
  },
  {
   "cell_type": "code",
   "execution_count": 37,
   "id": "60ec6307",
   "metadata": {},
   "outputs": [],
   "source": [
    "#saving to csv\n",
    "google_maps_df.to_csv(\"../Data/Raw/google_maps.csv\",index=False)\n",
    "play_store_df.to_csv(\"../Data/Raw/google_play.csv\",index=False)\n",
    "app_store_df.to_csv(\"../Data/Raw/app_store.csv\",index=False)"
   ]
  }
 ],
 "metadata": {
  "kernelspec": {
   "display_name": "Env",
   "language": "python",
   "name": "python3"
  },
  "language_info": {
   "codemirror_mode": {
    "name": "ipython",
    "version": 3
   },
   "file_extension": ".py",
   "mimetype": "text/x-python",
   "name": "python",
   "nbconvert_exporter": "python",
   "pygments_lexer": "ipython3",
   "version": "3.11.2"
  }
 },
 "nbformat": 4,
 "nbformat_minor": 5
}
